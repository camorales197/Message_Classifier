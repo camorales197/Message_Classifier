{
 "cells": [
  {
   "cell_type": "markdown",
   "metadata": {},
   "source": [
    "# Importing Libraries"
   ]
  },
  {
   "cell_type": "code",
   "execution_count": 1,
   "metadata": {
    "pycharm": {
     "name": "#%%\n"
    }
   },
   "outputs": [],
   "source": [
    "import os\n",
    "import pandas as pd\n",
    "import statistics\n",
    "import numpy as np\n",
    "\n",
    "\n",
    "from sklearn.base import BaseEstimator, TransformerMixin\n",
    "from sklearn.feature_extraction.text import TfidfVectorizer, CountVectorizer\n",
    "from sklearn.model_selection import cross_val_score, RandomizedSearchCV, train_test_split\n",
    "from sklearn.metrics import classification_report, confusion_matrix, accuracy_score\n",
    "from sklearn.pipeline import Pipeline\n",
    "\n",
    "from sklearn.svm import SVC\n",
    "from sklearn.tree import DecisionTreeClassifier\n",
    "from sklearn.ensemble import RandomForestClassifier, AdaBoostClassifier\n",
    "from sklearn.naive_bayes import GaussianNB\n",
    "\n",
    "\n",
    "from tqdm.auto import tqdm\n",
    "import seaborn as sns\n",
    "\n",
    "import joblib\n",
    "\n",
    "sns.set(rc={'figure.figsize':(10,5)})\n",
    "np.random.seed(1)\n"
   ]
  },
  {
   "cell_type": "markdown",
   "metadata": {},
   "source": [
    "# Data Loading"
   ]
  },
  {
   "cell_type": "code",
   "execution_count": 2,
   "metadata": {},
   "outputs": [],
   "source": [
    "def read_files(category):\n",
    "    \"\"\"\n",
    "    Input: State a category to pick all the messages from\n",
    "    Output: A dataset with two columns: text of the message, and a tag of the category associated to the message\n",
    "    \"\"\"\n",
    "    files_content_list = []\n",
    "    category_path = os.path.join('dataset', category)\n",
    "    files_names_list = os.listdir(category_path)\n",
    "    for file_name in tqdm(files_names_list):\n",
    "        file_path = os.path.join(category_path, file_name)\n",
    "        content = open(file_path,'r', errors='ignore').read()\n",
    "        files_content_list.append(content)\n",
    "        df_files_content = pd.DataFrame(files_content_list, columns=['Text']) \n",
    "        df_files_content['Category'] = category\n",
    "    return df_files_content\n"
   ]
  },
  {
   "cell_type": "code",
   "execution_count": 3,
   "metadata": {
    "scrolled": false
   },
   "outputs": [
    {
     "data": {
      "application/vnd.jupyter.widget-view+json": {
       "model_id": "ba5925d14ab046a394944edd00a895fb",
       "version_major": 2,
       "version_minor": 0
      },
      "text/plain": [
       "  0%|          | 0/7 [00:00<?, ?it/s]"
      ]
     },
     "metadata": {},
     "output_type": "display_data"
    },
    {
     "data": {
      "application/vnd.jupyter.widget-view+json": {
       "model_id": "e90d7f557f6e4e90816ebe00efdbc055",
       "version_major": 2,
       "version_minor": 0
      },
      "text/plain": [
       "  0%|          | 0/593 [00:00<?, ?it/s]"
      ]
     },
     "metadata": {},
     "output_type": "display_data"
    },
    {
     "data": {
      "application/vnd.jupyter.widget-view+json": {
       "model_id": "46f6b4acd429467eb52c74bb2ba87fe7",
       "version_major": 2,
       "version_minor": 0
      },
      "text/plain": [
       "  0%|          | 0/594 [00:00<?, ?it/s]"
      ]
     },
     "metadata": {},
     "output_type": "display_data"
    },
    {
     "data": {
      "application/vnd.jupyter.widget-view+json": {
       "model_id": "6bbecb736a834537aa01c311a09647c4",
       "version_major": 2,
       "version_minor": 0
      },
      "text/plain": [
       "  0%|          | 0/465 [00:00<?, ?it/s]"
      ]
     },
     "metadata": {},
     "output_type": "display_data"
    },
    {
     "data": {
      "application/vnd.jupyter.widget-view+json": {
       "model_id": "e85ccb21a04d4813bd1284238671d605",
       "version_major": 2,
       "version_minor": 0
      },
      "text/plain": [
       "  0%|          | 0/490 [00:00<?, ?it/s]"
      ]
     },
     "metadata": {},
     "output_type": "display_data"
    },
    {
     "data": {
      "application/vnd.jupyter.widget-view+json": {
       "model_id": "084255e337e94ab089a4469bf0d15c4d",
       "version_major": 2,
       "version_minor": 0
      },
      "text/plain": [
       "  0%|          | 0/609 [00:00<?, ?it/s]"
      ]
     },
     "metadata": {},
     "output_type": "display_data"
    },
    {
     "data": {
      "application/vnd.jupyter.widget-view+json": {
       "model_id": "48ebd3f9cce8473bae27623420083846",
       "version_major": 2,
       "version_minor": 0
      },
      "text/plain": [
       "  0%|          | 0/596 [00:00<?, ?it/s]"
      ]
     },
     "metadata": {},
     "output_type": "display_data"
    },
    {
     "data": {
      "application/vnd.jupyter.widget-view+json": {
       "model_id": "2530968457ca46c3b6c8725f01e17c53",
       "version_major": 2,
       "version_minor": 0
      },
      "text/plain": [
       "  0%|          | 0/546 [00:00<?, ?it/s]"
      ]
     },
     "metadata": {},
     "output_type": "display_data"
    },
    {
     "data": {
      "text/html": [
       "<div>\n",
       "<style scoped>\n",
       "    .dataframe tbody tr th:only-of-type {\n",
       "        vertical-align: middle;\n",
       "    }\n",
       "\n",
       "    .dataframe tbody tr th {\n",
       "        vertical-align: top;\n",
       "    }\n",
       "\n",
       "    .dataframe thead th {\n",
       "        text-align: right;\n",
       "    }\n",
       "</style>\n",
       "<table border=\"1\" class=\"dataframe\">\n",
       "  <thead>\n",
       "    <tr style=\"text-align: right;\">\n",
       "      <th></th>\n",
       "      <th>Text</th>\n",
       "      <th>Category</th>\n",
       "    </tr>\n",
       "  </thead>\n",
       "  <tbody>\n",
       "    <tr>\n",
       "      <th>0</th>\n",
       "      <td>\\nIn article &lt;C4KvJF.4qo@well.sf.ca.us&gt; metare...</td>\n",
       "      <td>exploration</td>\n",
       "    </tr>\n",
       "    <tr>\n",
       "      <th>1</th>\n",
       "      <td>Article-I.D.: cs.constants_733694246\\n\\n\\nCONS...</td>\n",
       "      <td>exploration</td>\n",
       "    </tr>\n",
       "    <tr>\n",
       "      <th>2</th>\n",
       "      <td>Article-I.D.: cs.controversy_733694426\\n\\n\\nCO...</td>\n",
       "      <td>exploration</td>\n",
       "    </tr>\n",
       "    <tr>\n",
       "      <th>3</th>\n",
       "      <td>Article-I.D.: cs.groups_733694492\\n\\n\\nSPACE A...</td>\n",
       "      <td>exploration</td>\n",
       "    </tr>\n",
       "    <tr>\n",
       "      <th>4</th>\n",
       "      <td>Article-I.D.: cs.astronaut_733694515\\n\\n\\nHOW ...</td>\n",
       "      <td>exploration</td>\n",
       "    </tr>\n",
       "    <tr>\n",
       "      <th>...</th>\n",
       "      <td>...</td>\n",
       "      <td>...</td>\n",
       "    </tr>\n",
       "    <tr>\n",
       "      <th>3888</th>\n",
       "      <td>\\nAs quoted from &lt;1993Apr17.025258.7013@micros...</td>\n",
       "      <td>weapons</td>\n",
       "    </tr>\n",
       "    <tr>\n",
       "      <th>3889</th>\n",
       "      <td>\\nIn article &lt;2071@rwing.UUCP&gt; pat@rwing.UUCP ...</td>\n",
       "      <td>weapons</td>\n",
       "    </tr>\n",
       "    <tr>\n",
       "      <th>3890</th>\n",
       "      <td>07:24:55 GMT\\n        &lt;1qjmnuINNlmd@cl...</td>\n",
       "      <td>weapons</td>\n",
       "    </tr>\n",
       "    <tr>\n",
       "      <th>3891</th>\n",
       "      <td>\\nAs quoted from &lt;1993Apr18.000152.2339@gnv.if...</td>\n",
       "      <td>weapons</td>\n",
       "    </tr>\n",
       "    <tr>\n",
       "      <th>3892</th>\n",
       "      <td>\\nPoliticians want to eliminate private owners...</td>\n",
       "      <td>weapons</td>\n",
       "    </tr>\n",
       "  </tbody>\n",
       "</table>\n",
       "<p>3893 rows × 2 columns</p>\n",
       "</div>"
      ],
      "text/plain": [
       "                                                   Text     Category\n",
       "0     \\nIn article <C4KvJF.4qo@well.sf.ca.us> metare...  exploration\n",
       "1     Article-I.D.: cs.constants_733694246\\n\\n\\nCONS...  exploration\n",
       "2     Article-I.D.: cs.controversy_733694426\\n\\n\\nCO...  exploration\n",
       "3     Article-I.D.: cs.groups_733694492\\n\\n\\nSPACE A...  exploration\n",
       "4     Article-I.D.: cs.astronaut_733694515\\n\\n\\nHOW ...  exploration\n",
       "...                                                 ...          ...\n",
       "3888  \\nAs quoted from <1993Apr17.025258.7013@micros...      weapons\n",
       "3889  \\nIn article <2071@rwing.UUCP> pat@rwing.UUCP ...      weapons\n",
       "3890          07:24:55 GMT\\n        <1qjmnuINNlmd@cl...      weapons\n",
       "3891  \\nAs quoted from <1993Apr18.000152.2339@gnv.if...      weapons\n",
       "3892  \\nPoliticians want to eliminate private owners...      weapons\n",
       "\n",
       "[3893 rows x 2 columns]"
      ]
     },
     "execution_count": 3,
     "metadata": {},
     "output_type": "execute_result"
    }
   ],
   "source": [
    "categories_list = next(os.walk('dataset'))[1]\n",
    "df_list = []\n",
    "for category in tqdm(categories_list):\n",
    "    df_list.append(read_files(category))\n",
    "df = pd.concat(df_list)\n",
    "df = df.reset_index(drop=True)\n",
    "#df = df[0:10]  #todo remove \n",
    "df "
   ]
  },
  {
   "cell_type": "markdown",
   "metadata": {},
   "source": [
    "# Understanding the data"
   ]
  },
  {
   "cell_type": "code",
   "execution_count": 4,
   "metadata": {},
   "outputs": [
    {
     "name": "stdout",
     "output_type": "stream",
     "text": [
      "The number of repetated messages is : 20\n",
      "The number of dropped messages is: 19\n"
     ]
    }
   ],
   "source": [
    "#It seems like there are a few messages duplicated\n",
    "unique_messages = len(df['Text'].unique())\n",
    "total_messages = df.shape[0]\n",
    "print(f'The number of repetated messages is : {total_messages - unique_messages}')\n",
    "\n",
    "#We are going to drop those that are repeated within the same category\n",
    "df_unique = df.drop_duplicates(subset=['Text', 'Category'])\n",
    "print(f'The number of dropped messages is: {total_messages - df_unique.shape[0]}')"
   ]
  },
  {
   "cell_type": "code",
   "execution_count": 5,
   "metadata": {},
   "outputs": [
    {
     "data": {
      "text/plain": [
       "politics          603\n",
       "transportation    594\n",
       "exploration       592\n",
       "headhunters       589\n",
       "weapons           546\n",
       "logistics         485\n",
       "intelligence      465\n",
       "Name: Category, dtype: int64"
      ]
     },
     "execution_count": 5,
     "metadata": {},
     "output_type": "execute_result"
    }
   ],
   "source": [
    "#How many registers do we have per class?\n",
    "df_unique[\"Category\"].value_counts()\n",
    "#The classes seem to be pretty well balanced"
   ]
  },
  {
   "cell_type": "code",
   "execution_count": 6,
   "metadata": {},
   "outputs": [
    {
     "data": {
      "text/plain": [
       "<AxesSubplot:xlabel='Category', ylabel='Words'>"
      ]
     },
     "execution_count": 6,
     "metadata": {},
     "output_type": "execute_result"
    },
    {
     "data": {
      "image/png": "[encoded data removed]",
      "text/plain": [
       "<Figure size 720x360 with 1 Axes>"
      ]
     },
     "metadata": {},
     "output_type": "display_data"
    }
   ],
   "source": [
    "#Let´s look at the number of words per message\n",
    "df['Words'] = df['Text'].apply(len)\n",
    "sns.boxplot(x=\"Category\", y=\"Words\", data=df)\n",
    "#We have outliers for all the categories, and don´t allow us to see well the distribution of the data "
   ]
  },
  {
   "cell_type": "code",
   "execution_count": 7,
   "metadata": {},
   "outputs": [
    {
     "data": {
      "text/plain": [
       "<AxesSubplot:xlabel='Category', ylabel='Words'>"
      ]
     },
     "execution_count": 7,
     "metadata": {},
     "output_type": "execute_result"
    },
    {
     "data": {
      "image/png": "[encoded data removed]",
      "text/plain": [
       "<Figure size 720x360 with 1 Axes>"
      ]
     },
     "metadata": {},
     "output_type": "display_data"
    }
   ],
   "source": [
    "#We are going to zoom in the registers with less than 10k words\n",
    "sns.boxplot(x=\"Category\", y=\"Words\", data=df[df['Words']<10000])\n"
   ]
  },
  {
   "cell_type": "markdown",
   "metadata": {},
   "source": [
    "#One option for the future could be to check if the model accuracy improves by dropping the registers with more than 10k words\n",
    "df[df['Words']>10000]. \n",
    "\n"
   ]
  },
  {
   "cell_type": "markdown",
   "metadata": {},
   "source": [
    "# Data Cleaning"
   ]
  },
  {
   "cell_type": "code",
   "execution_count": 8,
   "metadata": {},
   "outputs": [
    {
     "data": {
      "text/plain": [
       "array(['\\nIn article <C4KvJF.4qo@well.sf.ca.us> metares@well.sf.ca.us (Tom Van Flandern) writes:\\n>crb7q@kelvin.seas.Virginia.EDU (Cameron Randale Bass) writes:\\n>> Bruce.Scott@launchpad.unc.edu (Bruce Scott) writes:\\n>>> \"Existence\" is undefined unless it is synonymous with \"observable\" in\\n>>> physics.\\n>> [crb] Dong ....  Dong ....  Dong ....  Do I hear the death-knell of\\n>> string theory?\\n>\\n>     I agree.  You can add \"dark matter\" and quarks and a lot of other\\n>unobservable, purely theoretical constructs in physics to that list,\\n>including the omni-present \"black holes.\"\\n>\\n>     Will Bruce argue that their existence can be inferred from theory\\n>alone?  Then what about my original criticism, when I said \"Curvature\\n>can only exist relative to something non-curved\"?  Bruce replied:\\n>\"\\'Existence\\' is undefined unless it is synonymous with \\'observable\\' in\\n>physics.  We cannot observe more than the four dimensions we know about.\"\\n>At the moment I don\\'t see a way to defend that statement and the\\n>existence of these unobservable phenomena simultaneously.  -|Tom|-\\n\\n\"I hold that space cannot be curved, for the simple reason that it can have\\nno properties.\"\\n\"Of properties we can only speak when dealing with matter filling the\\nspace. To say that in the presence of large bodies space becomes curved,\\nis equivalent to stating that something can act upon nothing. I,\\nfor one, refuse to subscribe to such a view.\" - Nikola Tesla\\n\\n----\\n ET  \"Tesla was 100 years ahead of his time. Perhaps now his time comes.\"\\n----\\n'],\n",
       "      dtype=object)"
      ]
     },
     "execution_count": 8,
     "metadata": {},
     "output_type": "execute_result"
    }
   ],
   "source": [
    "#Let´s have a look at a raw text\n",
    "df_unique[\"Text\"].head(1).values"
   ]
  },
  {
   "cell_type": "markdown",
   "metadata": {},
   "source": [
    "It comes with many characters that are going to difficult the classification. It needs cleaning. \n",
    "\n",
    "We are going to create a data cleaning pipeline that will allow us to clean the messages from the training set, as well as those that will come in the future\n"
   ]
  },
  {
   "cell_type": "code",
   "execution_count": 9,
   "metadata": {},
   "outputs": [],
   "source": [
    "class TextPreprocessor(BaseEstimator, TransformerMixin):\n",
    "    \n",
    "    def __init__(self):\n",
    "        \"\"\"\n",
    "        Text preprocessing transformer to clean the messages\n",
    "        \"\"\"\n",
    "        \n",
    "    def fit(self, X, y=None):\n",
    "        return self #returns the same\n",
    "\n",
    "    def transform(self, X, y=None):\n",
    "        X_transform = X.map(lambda s:self.__preprocess(s))\n",
    "        return X_transform\n",
    "    \n",
    "    def __preprocess(self, sentence):\n",
    "        \"\"\"\n",
    "        Input: String of text\n",
    "        Output: String of text with only words and not other characters \n",
    "        \"\"\"\n",
    "        import re\n",
    "        from nltk.tokenize import RegexpTokenizer\n",
    "        from nltk.stem import WordNetLemmatizer,PorterStemmer\n",
    "        from nltk.corpus import stopwords\n",
    "        #from spellchecker import SpellChecker #It takes way too long (>1h)\n",
    "\n",
    "        #self.spell = SpellChecker() #It takes way too long (>1h)\n",
    "        self.lemmatizer = WordNetLemmatizer()\n",
    "        self.stemmer = PorterStemmer() \n",
    "\n",
    "        sentence = str(sentence) \n",
    "        sentence = sentence.lower()\n",
    "        sentence = sentence.replace('{html}',\"\") \n",
    "        cleanr = re.compile('<.*?>')\n",
    "        cleantext = re.sub(cleanr, '', sentence)\n",
    "        rem_url = re.sub(r'http\\S+', '',cleantext)\n",
    "        rem_num = re.sub('[0-9]+', '', rem_url)\n",
    "        rem__ = re.sub('_+', '', rem_num)\n",
    "        tokenizer = RegexpTokenizer(r'\\w+')\n",
    "        tokens = tokenizer.tokenize(rem__)  \n",
    "        filtered_words = [w for w in tokens if len(w) > 2 if not w in stopwords.words('english')]\n",
    "        #corrected_words = [self.spell.correction(w) for w in filtered_words] #It takes way too long (>1h)\n",
    "        stem_words = [self.stemmer.stem(w) for w in filtered_words]\n",
    "        lemma_words = [self.lemmatizer.lemmatize(w) for w in stem_words]\n",
    "        return \" \".join(lemma_words)"
   ]
  },
  {
   "cell_type": "code",
   "execution_count": 10,
   "metadata": {},
   "outputs": [],
   "source": [
    "#To ease the process of experimenting with different options \n",
    "#we are going to use sklearn´s pipelines\n",
    "\n",
    "pipeline_tranform_data = Pipeline([\n",
    "        ('Text_Preprocess', TextPreprocessor()), \n",
    "        ('TFidVector', TfidfVectorizer()) #max_features=1000, )) \n",
    "    ])\n",
    "\n",
    "Text_Clean = pipeline_tranform_data.fit_transform(df_unique[\"Text\"])"
   ]
  },
  {
   "cell_type": "code",
   "execution_count": 11,
   "metadata": {},
   "outputs": [],
   "source": [
    "X = Text_Clean\n",
    "y = df_unique[\"Category\"]\n",
    "\n",
    "X_train, X_test, y_train, y_test = train_test_split(X, y, test_size=0.2, stratify=y)"
   ]
  },
  {
   "cell_type": "code",
   "execution_count": 12,
   "metadata": {
    "scrolled": true
   },
   "outputs": [
    {
     "name": "stdout",
     "output_type": "stream",
     "text": [
      "SVC: Accuracy is: 0.9486914378029079\n",
      "DecisionTreeClassifier: Accuracy is: 0.6931257491271041\n",
      "RandomForestClassifier: Accuracy is: 0.8944765230079733\n",
      "AdaBoostClassifier: Accuracy is: 0.6763447808640367\n"
     ]
    },
    {
     "data": {
      "text/html": [
       "<div>\n",
       "<style scoped>\n",
       "    .dataframe tbody tr th:only-of-type {\n",
       "        vertical-align: middle;\n",
       "    }\n",
       "\n",
       "    .dataframe tbody tr th {\n",
       "        vertical-align: top;\n",
       "    }\n",
       "\n",
       "    .dataframe thead th {\n",
       "        text-align: right;\n",
       "    }\n",
       "</style>\n",
       "<table border=\"1\" class=\"dataframe\">\n",
       "  <thead>\n",
       "    <tr style=\"text-align: right;\">\n",
       "      <th></th>\n",
       "      <th>Accuracy</th>\n",
       "    </tr>\n",
       "  </thead>\n",
       "  <tbody>\n",
       "    <tr>\n",
       "      <th>AdaBoostClassifier</th>\n",
       "      <td>0.676345</td>\n",
       "    </tr>\n",
       "    <tr>\n",
       "      <th>DecisionTreeClassifier</th>\n",
       "      <td>0.693126</td>\n",
       "    </tr>\n",
       "    <tr>\n",
       "      <th>RandomForestClassifier</th>\n",
       "      <td>0.894477</td>\n",
       "    </tr>\n",
       "    <tr>\n",
       "      <th>SVC</th>\n",
       "      <td>0.948691</td>\n",
       "    </tr>\n",
       "  </tbody>\n",
       "</table>\n",
       "</div>"
      ],
      "text/plain": [
       "                        Accuracy\n",
       "AdaBoostClassifier      0.676345\n",
       "DecisionTreeClassifier  0.693126\n",
       "RandomForestClassifier  0.894477\n",
       "SVC                     0.948691"
      ]
     },
     "execution_count": 12,
     "metadata": {},
     "output_type": "execute_result"
    }
   ],
   "source": [
    "# A list with all the classifiers to be tested. We are going to implement the models out-of-box\n",
    "# Hyperparameters will be fine tune later on\n",
    "classifiers_to_test = [\n",
    "    SVC(),\n",
    "    DecisionTreeClassifier(),\n",
    "    RandomForestClassifier(),\n",
    "    AdaBoostClassifier()\n",
    "]\n",
    "\n",
    "classifiers_list = []\n",
    "scores_list = []\n",
    "\n",
    "for classifier in classifiers_to_test:\n",
    "    \n",
    "    classifier_name = str(type(classifier)).split(\".\")[-1][:-2] #Getting the name of the classifier\n",
    "    classifiers_list.append(classifier_name)\n",
    "    \n",
    "    score = statistics.mean(\n",
    "                cross_val_score(\n",
    "                    estimator=classifier, \n",
    "                    X=X_train, \n",
    "                    y=y_train,\n",
    "                    cv=5, \n",
    "                    scoring='accuracy'))\n",
    "    scores_list.append(score)\n",
    "    \n",
    "    print(f\"{classifier_name}: Accuracy is: {score}\")\n",
    "    \n",
    "data = {'Accuracy': scores_list}\n",
    "models_results = pd.DataFrame(index=classifiers_list, data=data)\n",
    "models_results.sort_values(by='Accuracy')"
   ]
  },
  {
   "cell_type": "code",
   "execution_count": 13,
   "metadata": {},
   "outputs": [
    {
     "name": "stdout",
     "output_type": "stream",
     "text": [
      "Fitting 3 folds for each of 1 candidates, totalling 3 fits\n"
     ]
    },
    {
     "name": "stderr",
     "output_type": "stream",
     "text": [
      "/opt/conda/lib/python3.8/site-packages/sklearn/model_selection/_search.py:278: UserWarning: The total space of parameters 1 is smaller than n_iter=10. Running 1 iterations. For exhaustive searches, use GridSearchCV.\n",
      "  warnings.warn(\n",
      "[Parallel(n_jobs=-1)]: Using backend LokyBackend with 2 concurrent workers.\n",
      "[Parallel(n_jobs=-1)]: Done   3 out of   3 | elapsed:   13.9s remaining:    0.0s\n",
      "[Parallel(n_jobs=-1)]: Done   3 out of   3 | elapsed:   13.9s finished\n"
     ]
    },
    {
     "name": "stdout",
     "output_type": "stream",
     "text": [
      "{'n_estimators': 1000, 'max_features': 'auto', 'max_depth': 3}\n"
     ]
    }
   ],
   "source": [
    "#According to the results of the previous comparison, we are going to pick the RandomForest\n",
    "#Previously we have tried SVC, but it does not generalize well.\n",
    "\n",
    "\n",
    "#Let´s adjust the hyperparameters\n",
    "n_estimators = [1000]\n",
    "max_features = ['auto']\n",
    "max_depth = [3, 5, 7]\n",
    "min_samples_leaf = [2, 4]\n",
    "\n",
    "random_grid = {'n_estimators': n_estimators,\n",
    "               'max_features': max_features,\n",
    "               'max_depth': max_depth,\n",
    "               'min_samples_leaf': min_samples_leaf\n",
    "              }\n",
    "\n",
    "rf = RandomForestClassifier()\n",
    "\n",
    "rf_random = RandomizedSearchCV(\n",
    "                estimator = rf, \n",
    "                param_distributions = random_grid, \n",
    "                n_iter = 100,\n",
    "                cv = 3, \n",
    "                scoring='accuracy',\n",
    "                verbose=5,\n",
    "                n_jobs = -1)\n",
    "\n",
    "rf_random.fit(X_train, y_train)  \n",
    "print(rf_random.best_params_)"
   ]
  },
  {
   "cell_type": "code",
   "execution_count": 14,
   "metadata": {},
   "outputs": [
    {
     "name": "stdout",
     "output_type": "stream",
     "text": [
      "Scores for the Train Dataset: \n",
      "Accuracy: 78.93%\n",
      "- - - - - - - - - - \n",
      "Scores for the Test Dataset: \n",
      "Accuracy: 77.55%\n"
     ]
    }
   ],
   "source": [
    "print(\"Scores for the Train Dataset: \")\n",
    "y_train_pred = rf_random.predict(X_train)\n",
    "accuracy_train = accuracy_score(y_train, y_train_pred)\n",
    "print(\"Accuracy: %.2f%%\" % (accuracy_train * 100.0))\n",
    "\n",
    "print(\"- - - - - - - - - - \")\n",
    "\n",
    "print(\"Scores for the Test Dataset: \")\n",
    "y_test_pred = rf_random.predict(X_test)\n",
    "accuracy_test = accuracy_score(y_test, y_test_pred)\n",
    "print(\"Accuracy: %.2f%%\" % (accuracy_test * 100.0))\n",
    "\n"
   ]
  },
  {
   "cell_type": "code",
   "execution_count": 15,
   "metadata": {},
   "outputs": [
    {
     "name": "stdout",
     "output_type": "stream",
     "text": [
      "[[101  10   0   0   1   6   0]\n",
      " [  2 113   0   0   0   3   0]\n",
      " [ 13  15  13   2   4  34  12]\n",
      " [  3  13   0  64   3  11   3]\n",
      " [  0   8   0   0 113   0   0]\n",
      " [  0   8   0   0   0 109   2]\n",
      " [  4   6   0   0   2   9  88]]\n"
     ]
    }
   ],
   "source": [
    "print(confusion_matrix(y_test,y_test_pred))\n"
   ]
  },
  {
   "cell_type": "code",
   "execution_count": 16,
   "metadata": {},
   "outputs": [
    {
     "name": "stdout",
     "output_type": "stream",
     "text": [
      "                precision    recall  f1-score   support\n",
      "\n",
      "   exploration       0.82      0.86      0.84       118\n",
      "   headhunters       0.65      0.96      0.78       118\n",
      "  intelligence       1.00      0.14      0.25        93\n",
      "     logistics       0.97      0.66      0.79        97\n",
      "      politics       0.92      0.93      0.93       121\n",
      "transportation       0.63      0.92      0.75       119\n",
      "       weapons       0.84      0.81      0.82       109\n",
      "\n",
      "      accuracy                           0.78       775\n",
      "     macro avg       0.83      0.75      0.73       775\n",
      "  weighted avg       0.82      0.78      0.75       775\n",
      "\n"
     ]
    }
   ],
   "source": [
    "print(classification_report(y_test,y_test_pred))\n"
   ]
  },
  {
   "cell_type": "code",
   "execution_count": null,
   "metadata": {},
   "outputs": [],
   "source": [
    "#Considering that there are 7 classes\n",
    "#We consider that an accuracy of a 77,8% in the test set is a good result"
   ]
  },
  {
   "cell_type": "code",
   "execution_count": 17,
   "metadata": {},
   "outputs": [
    {
     "data": {
      "text/plain": [
       "['pipeline_tranform_data.pkl']"
      ]
     },
     "execution_count": 17,
     "metadata": {},
     "output_type": "execute_result"
    }
   ],
   "source": [
    "joblib.dump(rf_random, \"model.pkl\") \n",
    "joblib.dump(pipeline_tranform_data, \"pipeline_tranform_data.pkl\") \n"
   ]
  },
  {
   "cell_type": "markdown",
   "metadata": {},
   "source": []
  }
 ],
 "metadata": {
  "kernelspec": {
   "display_name": "Python 3",
   "language": "python",
   "name": "python3"
  },
  "language_info": {
   "codemirror_mode": {
    "name": "ipython",
    "version": 3
   },
   "file_extension": ".py",
   "mimetype": "text/x-python",
   "name": "python",
   "nbconvert_exporter": "python",
   "pygments_lexer": "ipython3",
   "version": "3.8.6"
  }
 },
 "nbformat": 4,
 "nbformat_minor": 1
}
